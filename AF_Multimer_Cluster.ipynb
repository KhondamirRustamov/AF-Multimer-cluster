{
  "nbformat": 4,
  "nbformat_minor": 0,
  "metadata": {
    "colab": {
      "provenance": [],
      "gpuType": "T4",
      "authorship_tag": "ABX9TyNGf9HBAt1C4FOyphCXRQc7",
      "include_colab_link": true
    },
    "kernelspec": {
      "name": "python3",
      "display_name": "Python 3"
    },
    "language_info": {
      "name": "python"
    },
    "accelerator": "GPU"
  },
  "cells": [
    {
      "cell_type": "markdown",
      "metadata": {
        "id": "view-in-github",
        "colab_type": "text"
      },
      "source": [
        "<a href=\"https://colab.research.google.com/github/KhondamirRustamov/AF-Multimer-cluster/blob/main/AF_Multimer_Cluster.ipynb\" target=\"_parent\"><img src=\"https://colab.research.google.com/assets/colab-badge.svg\" alt=\"Open In Colab\"/></a>"
      ]
    },
    {
      "cell_type": "markdown",
      "source": [
        "# **AF-Multimer-Cluster: Exploring the ligand-induced conformational changes in proteins**\n",
        "\n",
        "Colab for easy-to-use test the conformational changes metamorphic proteins undergo during protein ligand binding or oligomerization using [AFMultimer](www.biorxiv.org/content/10.1101/2021.10.04.463034v2) and [AFcluster](https://www.nature.com/articles/s41586-023-06832-9).\n",
        "\n",
        "Kh.R.Rustamov & A.Y. Baev. MSA clustering enhances AF-Multimer's ability to predict conformational landscapes of protein-protein interactions. *Bioinformatics Advances*. 2024"
      ],
      "metadata": {
        "id": "0lMZqebYJd1m"
      }
    },
    {
      "cell_type": "code",
      "execution_count": 1,
      "metadata": {
        "colab": {
          "base_uri": "https://localhost:8080/"
        },
        "id": "0Gr6cxCiQYnT",
        "outputId": "76cd28b7-fb06-4e8c-eabe-f66cafe99e94",
        "cellView": "form"
      },
      "outputs": [
        {
          "output_type": "stream",
          "name": "stdout",
          "text": [
            "\u001b[2K   \u001b[90m━━━━━━━━━━━━━━━━━━━━━━━━━━━━━━━━━━━━━━━━\u001b[0m \u001b[32m3.2/3.2 MB\u001b[0m \u001b[31m81.4 MB/s\u001b[0m eta \u001b[36m0:00:00\u001b[0m\n",
            "\u001b[2K     \u001b[90m━━━━━━━━━━━━━━━━━━━━━━━━━━━━━━━━━━━━━━━━\u001b[0m \u001b[32m46.6/46.6 kB\u001b[0m \u001b[31m3.7 MB/s\u001b[0m eta \u001b[36m0:00:00\u001b[0m\n",
            "\u001b[2K   \u001b[90m━━━━━━━━━━━━━━━━━━━━━━━━━━━━━━━━━━━━━━━━\u001b[0m \u001b[32m10.1/10.1 MB\u001b[0m \u001b[31m68.2 MB/s\u001b[0m eta \u001b[36m0:00:00\u001b[0m\n",
            "\u001b[2K   \u001b[90m━━━━━━━━━━━━━━━━━━━━━━━━━━━━━━━━━━━━━━━━\u001b[0m \u001b[32m2.1/2.1 MB\u001b[0m \u001b[31m55.4 MB/s\u001b[0m eta \u001b[36m0:00:00\u001b[0m\n",
            "\u001b[2K   \u001b[90m━━━━━━━━━━━━━━━━━━━━━━━━━━━━━━━━━━━━━━━━\u001b[0m \u001b[32m44.8/44.8 kB\u001b[0m \u001b[31m2.0 MB/s\u001b[0m eta \u001b[36m0:00:00\u001b[0m\n",
            "\u001b[?25h"
          ]
        },
        {
          "output_type": "stream",
          "name": "stderr",
          "text": [
            "WARNING:MDAnalysis.coordinates.AMBER:netCDF4 is not available. Writing AMBER ncdf files will be slow.\n"
          ]
        },
        {
          "output_type": "stream",
          "name": "stdout",
          "text": [
            "installing colabfold...\n",
            "Cloning into 'AF_Cluster'...\n",
            "remote: Enumerating objects: 13166, done.\u001b[K\n",
            "remote: Counting objects: 100% (2930/2930), done.\u001b[K\n",
            "remote: Compressing objects: 100% (1764/1764), done.\u001b[K\n",
            "remote: Total 13166 (delta 1194), reused 2880 (delta 1164), pack-reused 10236 (from 1)\u001b[K\n",
            "Receiving objects: 100% (13166/13166), 538.28 MiB | 16.63 MiB/s, done.\n",
            "Resolving deltas: 100% (1921/1921), done.\n",
            "Updating files: 100% (13619/13619), done.\n",
            "Requirement already satisfied: biopython in /usr/local/lib/python3.10/dist-packages (from -r /content/AF_Cluster/requirements.txt (line 1)) (1.82)\n",
            "Requirement already satisfied: matplotlib in /usr/local/lib/python3.10/dist-packages (from -r /content/AF_Cluster/requirements.txt (line 2)) (3.8.0)\n",
            "Collecting mdtraj (from -r /content/AF_Cluster/requirements.txt (line 3))\n",
            "  Downloading mdtraj-1.10.1-cp310-cp310-manylinux_2_17_x86_64.manylinux2014_x86_64.whl.metadata (1.6 kB)\n",
            "Requirement already satisfied: numpy in /usr/local/lib/python3.10/dist-packages (from -r /content/AF_Cluster/requirements.txt (line 4)) (1.26.4)\n",
            "Requirement already satisfied: pandas in /usr/local/lib/python3.10/dist-packages (from -r /content/AF_Cluster/requirements.txt (line 5)) (1.5.3)\n",
            "Collecting polyleven (from -r /content/AF_Cluster/requirements.txt (line 6))\n",
            "  Downloading polyleven-0.8-cp310-cp310-manylinux_2_5_x86_64.manylinux1_x86_64.manylinux_2_17_x86_64.manylinux2014_x86_64.whl.metadata (4.5 kB)\n",
            "Requirement already satisfied: scikit-learn in /usr/local/lib/python3.10/dist-packages (from -r /content/AF_Cluster/requirements.txt (line 7)) (1.5.2)\n",
            "Requirement already satisfied: seaborn in /usr/local/lib/python3.10/dist-packages (from -r /content/AF_Cluster/requirements.txt (line 8)) (0.13.2)\n",
            "Requirement already satisfied: contourpy>=1.0.1 in /usr/local/lib/python3.10/dist-packages (from matplotlib->-r /content/AF_Cluster/requirements.txt (line 2)) (1.3.0)\n",
            "Requirement already satisfied: cycler>=0.10 in /usr/local/lib/python3.10/dist-packages (from matplotlib->-r /content/AF_Cluster/requirements.txt (line 2)) (0.12.1)\n",
            "Requirement already satisfied: fonttools>=4.22.0 in /usr/local/lib/python3.10/dist-packages (from matplotlib->-r /content/AF_Cluster/requirements.txt (line 2)) (4.54.1)\n",
            "Requirement already satisfied: kiwisolver>=1.0.1 in /usr/local/lib/python3.10/dist-packages (from matplotlib->-r /content/AF_Cluster/requirements.txt (line 2)) (1.4.7)\n",
            "Requirement already satisfied: packaging>=20.0 in /usr/local/lib/python3.10/dist-packages (from matplotlib->-r /content/AF_Cluster/requirements.txt (line 2)) (24.1)\n",
            "Requirement already satisfied: pillow>=6.2.0 in /usr/local/lib/python3.10/dist-packages (from matplotlib->-r /content/AF_Cluster/requirements.txt (line 2)) (10.4.0)\n",
            "Requirement already satisfied: pyparsing>=2.3.1 in /usr/local/lib/python3.10/dist-packages (from matplotlib->-r /content/AF_Cluster/requirements.txt (line 2)) (3.2.0)\n",
            "Requirement already satisfied: python-dateutil>=2.7 in /usr/local/lib/python3.10/dist-packages (from matplotlib->-r /content/AF_Cluster/requirements.txt (line 2)) (2.8.2)\n",
            "Requirement already satisfied: scipy in /usr/local/lib/python3.10/dist-packages (from mdtraj->-r /content/AF_Cluster/requirements.txt (line 3)) (1.13.1)\n",
            "Requirement already satisfied: pytz>=2020.1 in /usr/local/lib/python3.10/dist-packages (from pandas->-r /content/AF_Cluster/requirements.txt (line 5)) (2024.2)\n",
            "Requirement already satisfied: joblib>=1.2.0 in /usr/local/lib/python3.10/dist-packages (from scikit-learn->-r /content/AF_Cluster/requirements.txt (line 7)) (1.4.2)\n",
            "Requirement already satisfied: threadpoolctl>=3.1.0 in /usr/local/lib/python3.10/dist-packages (from scikit-learn->-r /content/AF_Cluster/requirements.txt (line 7)) (3.5.0)\n",
            "Requirement already satisfied: six>=1.5 in /usr/local/lib/python3.10/dist-packages (from python-dateutil>=2.7->matplotlib->-r /content/AF_Cluster/requirements.txt (line 2)) (1.16.0)\n",
            "Downloading mdtraj-1.10.1-cp310-cp310-manylinux_2_17_x86_64.manylinux2014_x86_64.whl (7.4 MB)\n",
            "\u001b[2K   \u001b[90m━━━━━━━━━━━━━━━━━━━━━━━━━━━━━━━━━━━━━━━━\u001b[0m \u001b[32m7.4/7.4 MB\u001b[0m \u001b[31m20.1 MB/s\u001b[0m eta \u001b[36m0:00:00\u001b[0m\n",
            "\u001b[?25hDownloading polyleven-0.8-cp310-cp310-manylinux_2_5_x86_64.manylinux1_x86_64.manylinux_2_17_x86_64.manylinux2014_x86_64.whl (19 kB)\n",
            "Installing collected packages: polyleven, mdtraj\n",
            "Successfully installed mdtraj-1.10.1 polyleven-0.8\n",
            "successful\n",
            "CPU times: user 2.58 s, sys: 286 ms, total: 2.87 s\n",
            "Wall time: 1min 53s\n"
          ]
        }
      ],
      "source": [
        "#@title Installing ColabFold\n",
        "%%time\n",
        "!pip install -q biopython\n",
        "!pip install -q MDAnalysis\n",
        "\n",
        "import warnings\n",
        "warnings.filterwarnings(\"ignore\")\n",
        "import json\n",
        "import numpy as np\n",
        "import matplotlib.pyplot as plt\n",
        "\n",
        "import glob\n",
        "from scipy.spatial import distance_matrix\n",
        "\n",
        "import os\n",
        "import sys\n",
        "import urllib.request\n",
        "\n",
        "import Bio\n",
        "import Bio.PDB\n",
        "import Bio.SeqRecord\n",
        "from sklearn.metrics.pairwise import euclidean_distances\n",
        "\n",
        "from sklearn.decomposition import PCA\n",
        "\n",
        "import pandas as pd\n",
        "\n",
        "import MDAnalysis as mda\n",
        "from MDAnalysis.analysis import pca, align, rms\n",
        "#print('installing ColabFold...')\n",
        "if not os.path.isfile(\"COLABFOLD_READY\"):\n",
        "  print(\"installing colabfold...\")\n",
        "  os.system(\"pip install -q --no-warn-conflicts 'colabfold[alphafold-minus-jax] @ git+https://github.com/sokrypton/ColabFold'\")\n",
        "  if os.environ.get('TPU_NAME', False) != False:\n",
        "    os.system(\"pip uninstall -y jax jaxlib\")\n",
        "    os.system(\"pip install --no-warn-conflicts --upgrade dm-haiku==0.0.10 'jax[cuda12_pip]'==0.3.25 -f https://storage.googleapis.com/jax-releases/jax_cuda_releases.html\")\n",
        "  os.system(\"ln -s /usr/local/lib/python3.*/dist-packages/colabfold colabfold\")\n",
        "  os.system(\"ln -s /usr/local/lib/python3.*/dist-packages/alphafold alphafold\")\n",
        "  os.system(\"touch COLABFOLD_READY\")\n",
        "\n",
        "!git clone https://github.com/HWaymentSteele/AF_Cluster\n",
        "!pip install -r /content/AF_Cluster/requirements.txt\n",
        "print('successful')"
      ]
    },
    {
      "cell_type": "code",
      "source": [
        "#@markdown **Input options and predict using full-MSA and ColabFold**\n",
        "\n",
        "#@markdown Input ligand sequence first, metamorphic protein sequence second (separating sequences with :)\n",
        "\n",
        "#@markdown In case of oligomers just input sequence twice (separating sequences with :)\n",
        "\n",
        "from google.colab import files\n",
        "sequence = 'KKYAKSKYDFVARNSSELSVMKDDVLEILDDRRQWWKVRNASGDSGFVPNNILDIMRTP:KKYAKSKYDFVARNSSELSVMKDDVLEILDDRRQWWKVRNASGDSGFVPNNILDIMRTP' #@param {type:\"string\"}\n",
        "name = 'test' #@param {type:\"string\"}\n",
        "os.system(f'mkdir {name}/')\n",
        "file_fasta = open(f'{name}/complex.fasta', 'w')\n",
        "file_fasta.write(f'>{name}\\n{sequence}\\n')\n",
        "file_fasta.close()\n",
        "file_fasta = open(f'{name}/metamorphic.fasta', 'w')\n",
        "file_fasta.write(f\">{name}\\n{sequence.split(':')[1]}\\n\")\n",
        "file_fasta.close()\n",
        "num_models = 1 #@param [\"1\", \"2\", \"3\", \"4\", \"5\"] {type:\"raw\"}\n",
        "model_order = [x+1 for x in range(num_models)]\n",
        "template_mode='None'\n",
        "jobname=name\n",
        "query_sequence = sequence\n",
        "\n",
        "jobname_metamorphic = name+'_metamorphic'\n",
        "metamorphic_sequence = sequence.split(':')[1]\n",
        "# check if directory with jobname exists\n",
        "\n",
        "# make directory to save results\n",
        "os.makedirs(jobname, exist_ok=True)\n",
        "os.makedirs(jobname_metamorphic, exist_ok=True)\n",
        "\n",
        "# save queries\n",
        "queries_path = os.path.join(jobname, f\"{jobname}.csv\")\n",
        "metamorphic_queries_path = os.path.join(jobname_metamorphic, f\"{jobname_metamorphic}.csv\")\n",
        "with open(queries_path, \"w\") as text_file:\n",
        "  text_file.write(f\"id,sequence\\n{jobname},{query_sequence}\")\n",
        "\n",
        "with open(metamorphic_queries_path, \"w\") as text_file:\n",
        "  text_file.write(f\"id,sequence\\n{jobname_metamorphic},{metamorphic_sequence}\")\n",
        "\n",
        "custom_template_path = None\n",
        "use_templates = False\n",
        "\n",
        "print(\"jobname\",jobname)\n",
        "print(\"sequence\",query_sequence)\n",
        "print(\"length\",len(query_sequence.replace(\":\",\"\")))\n",
        "\n",
        "msa_mode = \"mmseqs2_uniref_env\" #@param [\"mmseqs2_uniref_env\", \"mmseqs2_uniref\",\"single_sequence\",\"custom\"]\n",
        "pair_mode = \"unpaired\" #@param [\"unpaired_paired\",\"paired\",\"unpaired\"] {type:\"string\"}\n",
        "#@markdown - \"unpaired_paired\" = pair sequences from same species + unpaired MSA, \"unpaired\" = seperate MSA for each chain, \"paired\" - only use paired sequences.\n",
        "\n",
        "# decide which a3m to use\n",
        "a3m_file = os.path.join(jobname,f\"{jobname}.a3m\")\n",
        "a3m_file_metamorphic = os.path.join(jobname_metamorphic,f\"{jobname_metamorphic}.a3m\")"
      ],
      "metadata": {
        "colab": {
          "base_uri": "https://localhost:8080/"
        },
        "id": "dPDmwo-7j2ay",
        "outputId": "8e686d89-672b-4e3b-bea8-146aba69e43d",
        "cellView": "form"
      },
      "execution_count": 2,
      "outputs": [
        {
          "output_type": "stream",
          "name": "stdout",
          "text": [
            "jobname test\n",
            "sequence KKYAKSKYDFVARNSSELSVMKDDVLEILDDRRQWWKVRNASGDSGFVPNNILDIMRTP:KKYAKSKYDFVARNSSELSVMKDDVLEILDDRRQWWKVRNASGDSGFVPNNILDIMRTP\n",
            "length 118\n"
          ]
        }
      ]
    },
    {
      "cell_type": "code",
      "source": [
        "#@markdown **Predict structures using full-MSA and ColabFold**\n",
        "\n",
        "#@markdown This might take up to 4-10 minutes, depending on the length of proteins (this step takes both downloading ColabFold params and making the prediction)\n",
        "\n",
        "display_images = True\n",
        "model_type = \"auto\"\n",
        "num_recycles = \"3\"\n",
        "\n",
        "pairing_strategy = \"greedy\"\n",
        "\n",
        "max_msa = \"auto\"\n",
        "num_seeds = 1\n",
        "use_dropout = False\n",
        "\n",
        "if max_msa == \"auto\": max_msa = None\n",
        "import sys\n",
        "import warnings\n",
        "warnings.simplefilter(action='ignore', category=FutureWarning)\n",
        "from Bio import BiopythonDeprecationWarning\n",
        "warnings.simplefilter(action='ignore', category=BiopythonDeprecationWarning)\n",
        "from pathlib import Path\n",
        "from colabfold.download import download_alphafold_params, default_data_dir\n",
        "from colabfold.utils import setup_logging\n",
        "from colabfold.batch import get_queries, run, set_model_type\n",
        "from colabfold.plot import plot_msa_v2\n",
        "\n",
        "import os\n",
        "import numpy as np\n",
        "try:\n",
        "  K80_chk = os.popen('nvidia-smi | grep \"Tesla K80\" | wc -l').read()\n",
        "except:\n",
        "  K80_chk = \"0\"\n",
        "  pass\n",
        "if \"1\" in K80_chk:\n",
        "  print(\"WARNING: found GPU Tesla K80: limited to total length < 1000\")\n",
        "  if \"TF_FORCE_UNIFIED_MEMORY\" in os.environ:\n",
        "    del os.environ[\"TF_FORCE_UNIFIED_MEMORY\"]\n",
        "  if \"XLA_PYTHON_CLIENT_MEM_FRACTION\" in os.environ:\n",
        "    del os.environ[\"XLA_PYTHON_CLIENT_MEM_FRACTION\"]\n",
        "\n",
        "from colabfold.colabfold import plot_protein\n",
        "from pathlib import Path\n",
        "import matplotlib.pyplot as plt\n",
        "\n",
        "# For some reason we need that to get pdbfixer to import\n",
        "\n",
        "def input_features_callback(input_features):\n",
        "  if display_images:\n",
        "    plot_msa_v2(input_features)\n",
        "    plt.show()\n",
        "    plt.close()\n",
        "\n",
        "def prediction_callback(protein_obj, length,\n",
        "                        prediction_result, input_features, mode):\n",
        "  model_name, relaxed = mode\n",
        "  if not relaxed:\n",
        "    if display_images:\n",
        "      fig = plot_protein(protein_obj, Ls=length, dpi=150)\n",
        "      plt.show()\n",
        "      plt.close()\n",
        "\n",
        "result_dir = jobname\n",
        "log_filename = os.path.join(jobname,\"log.txt\")\n",
        "setup_logging(Path(log_filename))\n",
        "\n",
        "queries, is_complex = get_queries(queries_path)\n",
        "\n",
        "download_alphafold_params('alphafold2_multimer_v3', Path(\".\"))\n",
        "results = run(\n",
        "    queries=queries,\n",
        "    result_dir=result_dir,\n",
        "    use_templates=use_templates,\n",
        "    custom_template_path=custom_template_path,\n",
        "    msa_mode=msa_mode,\n",
        "    model_type='alphafold2_multimer_v3',\n",
        "    num_models=num_models,\n",
        "    num_recycles=3,\n",
        "    model_order=model_order,\n",
        "    is_complex=True,\n",
        "    data_dir=Path(\".\"),\n",
        "    keep_existing_results=False,\n",
        "    rank_by=\"auto\",\n",
        "    pair_mode='unpaired',\n",
        "    stop_at_score=float(100),\n",
        "    prediction_callback=prediction_callback,\n",
        "    dpi=300,\n",
        "    zip_results=False,\n",
        "    max_msa=max_msa,\n",
        "    input_features_callback=input_features_callback,\n",
        "    user_agent=\"colabfold/google-colab-main\",\n",
        ")\n",
        "\n",
        "result_dir = jobname_metamorphic\n",
        "log_filename = os.path.join(jobname_metamorphic,\"log_metamorphic.txt\")\n",
        "setup_logging(Path(log_filename))\n",
        "\n",
        "queries_metamorphic, is_complex = get_queries(metamorphic_queries_path)\n",
        "\n",
        "download_alphafold_params('alphafold2', Path(\".\"))\n",
        "results = run(\n",
        "    queries=queries_metamorphic,\n",
        "    result_dir=result_dir,\n",
        "    use_templates=use_templates,\n",
        "    custom_template_path=custom_template_path,\n",
        "    msa_mode=msa_mode,\n",
        "    model_type='alphafold2',\n",
        "    num_models=num_models,\n",
        "    num_recycles=3,\n",
        "    model_order=model_order,\n",
        "    is_complex=False,\n",
        "    data_dir=Path(\".\"),\n",
        "    keep_existing_results=False,\n",
        "    rank_by=\"auto\",\n",
        "    pair_mode='unpaired',\n",
        "    stop_at_score=float(100),\n",
        "    prediction_callback=prediction_callback,\n",
        "    dpi=300,\n",
        "    zip_results=False,\n",
        "    max_msa=max_msa,\n",
        "    input_features_callback=input_features_callback,\n",
        "    user_agent=\"colabfold/google-colab-main\",\n",
        ")\n",
        "\n"
      ],
      "metadata": {
        "colab": {
          "base_uri": "https://localhost:8080/"
        },
        "id": "zPkgHHJA7aom",
        "outputId": "c6194f7b-0a80-4ed3-b6ed-bed09d69f4ae",
        "cellView": "form"
      },
      "execution_count": null,
      "outputs": [
        {
          "output_type": "stream",
          "name": "stderr",
          "text": [
            "Downloading alphafold2_multimer_v3 weights to .: 100%|██████████| 3.82G/3.82G [02:55<00:00, 23.3MB/s]\n"
          ]
        },
        {
          "output_type": "stream",
          "name": "stdout",
          "text": [
            "2024-11-05 07:07:38,380 Running on GPU\n",
            "2024-11-05 07:07:38,728 Found 5 citations for tools or databases\n",
            "2024-11-05 07:07:38,728 Query 1/1: test (length 118)\n"
          ]
        },
        {
          "output_type": "stream",
          "name": "stderr",
          "text": [
            "PENDING:   0%|          | 0/150 [elapsed: 00:01 remaining: ?]"
          ]
        },
        {
          "output_type": "stream",
          "name": "stdout",
          "text": [
            "2024-11-05 07:07:39,828 Sleeping for 7s. Reason: PENDING\n"
          ]
        },
        {
          "output_type": "stream",
          "name": "stderr",
          "text": [
            "PENDING:   0%|          | 0/150 [elapsed: 00:09 remaining: ?]"
          ]
        },
        {
          "output_type": "stream",
          "name": "stdout",
          "text": [
            "2024-11-05 07:07:47,857 Sleeping for 6s. Reason: PENDING\n"
          ]
        },
        {
          "output_type": "stream",
          "name": "stderr",
          "text": [
            "PENDING:   0%|          | 0/150 [elapsed: 00:16 remaining: ?]"
          ]
        },
        {
          "output_type": "stream",
          "name": "stdout",
          "text": [
            "2024-11-05 07:07:54,887 Sleeping for 9s. Reason: PENDING\n"
          ]
        },
        {
          "output_type": "stream",
          "name": "stderr",
          "text": [
            "PENDING:   0%|          | 0/150 [elapsed: 00:26 remaining: ?]"
          ]
        },
        {
          "output_type": "stream",
          "name": "stdout",
          "text": [
            "2024-11-05 07:08:04,907 Sleeping for 6s. Reason: PENDING\n"
          ]
        },
        {
          "output_type": "stream",
          "name": "stderr",
          "text": [
            "PENDING:   0%|          | 0/150 [elapsed: 00:33 remaining: ?]"
          ]
        },
        {
          "output_type": "stream",
          "name": "stdout",
          "text": [
            "2024-11-05 07:08:11,944 Sleeping for 5s. Reason: PENDING\n"
          ]
        },
        {
          "output_type": "stream",
          "name": "stderr",
          "text": [
            "PENDING:   0%|          | 0/150 [elapsed: 00:39 remaining: ?]"
          ]
        },
        {
          "output_type": "stream",
          "name": "stdout",
          "text": [
            "2024-11-05 07:08:17,960 Sleeping for 7s. Reason: PENDING\n"
          ]
        },
        {
          "output_type": "stream",
          "name": "stderr",
          "text": [
            "PENDING:   0%|          | 0/150 [elapsed: 00:47 remaining: ?]"
          ]
        },
        {
          "output_type": "stream",
          "name": "stdout",
          "text": [
            "2024-11-05 07:08:25,958 Sleeping for 5s. Reason: PENDING\n"
          ]
        },
        {
          "output_type": "stream",
          "name": "stderr",
          "text": [
            "PENDING:   0%|          | 0/150 [elapsed: 00:53 remaining: ?]"
          ]
        },
        {
          "output_type": "stream",
          "name": "stdout",
          "text": [
            "2024-11-05 07:08:32,005 Sleeping for 9s. Reason: PENDING\n"
          ]
        },
        {
          "output_type": "stream",
          "name": "stderr",
          "text": [
            "PENDING:   0%|          | 0/150 [elapsed: 01:03 remaining: ?]"
          ]
        },
        {
          "output_type": "stream",
          "name": "stdout",
          "text": [
            "2024-11-05 07:08:42,041 Sleeping for 8s. Reason: PENDING\n"
          ]
        },
        {
          "output_type": "stream",
          "name": "stderr",
          "text": [
            "PENDING:   0%|          | 0/150 [elapsed: 01:12 remaining: ?]"
          ]
        },
        {
          "output_type": "stream",
          "name": "stdout",
          "text": [
            "2024-11-05 07:08:51,067 Sleeping for 8s. Reason: PENDING\n"
          ]
        },
        {
          "output_type": "stream",
          "name": "stderr",
          "text": [
            "PENDING:   0%|          | 0/150 [elapsed: 01:21 remaining: ?]"
          ]
        },
        {
          "output_type": "stream",
          "name": "stdout",
          "text": [
            "2024-11-05 07:09:00,081 Sleeping for 7s. Reason: PENDING\n"
          ]
        },
        {
          "output_type": "stream",
          "name": "stderr",
          "text": [
            "PENDING:   0%|          | 0/150 [elapsed: 01:29 remaining: ?]"
          ]
        },
        {
          "output_type": "stream",
          "name": "stdout",
          "text": [
            "2024-11-05 07:09:08,104 Sleeping for 9s. Reason: PENDING\n"
          ]
        },
        {
          "output_type": "stream",
          "name": "stderr",
          "text": [
            "PENDING:   0%|          | 0/150 [elapsed: 01:39 remaining: ?]"
          ]
        },
        {
          "output_type": "stream",
          "name": "stdout",
          "text": [
            "2024-11-05 07:09:18,115 Sleeping for 7s. Reason: PENDING\n"
          ]
        },
        {
          "output_type": "stream",
          "name": "stderr",
          "text": [
            "PENDING:   0%|          | 0/150 [elapsed: 01:47 remaining: ?]"
          ]
        },
        {
          "output_type": "stream",
          "name": "stdout",
          "text": [
            "2024-11-05 07:09:26,132 Sleeping for 9s. Reason: PENDING\n"
          ]
        },
        {
          "output_type": "stream",
          "name": "stderr",
          "text": [
            "PENDING:   0%|          | 0/150 [elapsed: 01:57 remaining: ?]"
          ]
        },
        {
          "output_type": "stream",
          "name": "stdout",
          "text": [
            "2024-11-05 07:09:36,153 Sleeping for 9s. Reason: PENDING\n"
          ]
        },
        {
          "output_type": "stream",
          "name": "stderr",
          "text": [
            "PENDING:   0%|          | 0/150 [elapsed: 02:07 remaining: ?]"
          ]
        },
        {
          "output_type": "stream",
          "name": "stdout",
          "text": [
            "2024-11-05 07:09:46,177 Sleeping for 8s. Reason: PENDING\n"
          ]
        },
        {
          "output_type": "stream",
          "name": "stderr",
          "text": [
            "PENDING:   0%|          | 0/150 [elapsed: 02:16 remaining: ?]"
          ]
        },
        {
          "output_type": "stream",
          "name": "stdout",
          "text": [
            "2024-11-05 07:09:55,187 Sleeping for 10s. Reason: PENDING\n"
          ]
        },
        {
          "output_type": "stream",
          "name": "stderr",
          "text": [
            "PENDING:   0%|          | 0/150 [elapsed: 02:27 remaining: ?]"
          ]
        },
        {
          "output_type": "stream",
          "name": "stdout",
          "text": [
            "2024-11-05 07:10:06,320 Sleeping for 6s. Reason: PENDING\n"
          ]
        },
        {
          "output_type": "stream",
          "name": "stderr",
          "text": [
            "PENDING:   0%|          | 0/150 [elapsed: 02:34 remaining: ?]"
          ]
        },
        {
          "output_type": "stream",
          "name": "stdout",
          "text": [
            "2024-11-05 07:10:13,345 Sleeping for 7s. Reason: PENDING\n"
          ]
        },
        {
          "output_type": "stream",
          "name": "stderr",
          "text": [
            "PENDING:   0%|          | 0/150 [elapsed: 02:42 remaining: ?]"
          ]
        },
        {
          "output_type": "stream",
          "name": "stdout",
          "text": [
            "2024-11-05 07:10:21,369 Sleeping for 7s. Reason: PENDING\n"
          ]
        },
        {
          "output_type": "stream",
          "name": "stderr",
          "text": [
            "PENDING:   0%|          | 0/150 [elapsed: 02:50 remaining: ?]"
          ]
        },
        {
          "output_type": "stream",
          "name": "stdout",
          "text": [
            "2024-11-05 07:10:29,390 Sleeping for 9s. Reason: PENDING\n"
          ]
        },
        {
          "output_type": "stream",
          "name": "stderr",
          "text": [
            "PENDING:   0%|          | 0/150 [elapsed: 03:00 remaining: ?]"
          ]
        },
        {
          "output_type": "stream",
          "name": "stdout",
          "text": [
            "2024-11-05 07:10:39,411 Sleeping for 5s. Reason: PENDING\n"
          ]
        },
        {
          "output_type": "stream",
          "name": "stderr",
          "text": [
            "PENDING:   0%|          | 0/150 [elapsed: 03:07 remaining: ?]"
          ]
        },
        {
          "output_type": "stream",
          "name": "stdout",
          "text": [
            "2024-11-05 07:10:46,515 Sleeping for 8s. Reason: PENDING\n"
          ]
        },
        {
          "output_type": "stream",
          "name": "stderr",
          "text": [
            "PENDING:   0%|          | 0/150 [elapsed: 03:17 remaining: ?]"
          ]
        },
        {
          "output_type": "stream",
          "name": "stdout",
          "text": [
            "2024-11-05 07:10:55,767 Sleeping for 9s. Reason: PENDING\n"
          ]
        },
        {
          "output_type": "stream",
          "name": "stderr",
          "text": [
            "PENDING:   0%|          | 0/150 [elapsed: 03:27 remaining: ?]"
          ]
        },
        {
          "output_type": "stream",
          "name": "stdout",
          "text": [
            "2024-11-05 07:11:05,899 Sleeping for 6s. Reason: PENDING\n"
          ]
        },
        {
          "output_type": "stream",
          "name": "stderr",
          "text": [
            "PENDING:   0%|          | 0/150 [elapsed: 03:34 remaining: ?]"
          ]
        },
        {
          "output_type": "stream",
          "name": "stdout",
          "text": [
            "2024-11-05 07:11:12,954 Sleeping for 8s. Reason: PENDING\n"
          ]
        },
        {
          "output_type": "stream",
          "name": "stderr",
          "text": [
            "PENDING:   0%|          | 0/150 [elapsed: 03:43 remaining: ?]"
          ]
        },
        {
          "output_type": "stream",
          "name": "stdout",
          "text": [
            "2024-11-05 07:11:21,988 Sleeping for 9s. Reason: PENDING\n"
          ]
        },
        {
          "output_type": "stream",
          "name": "stderr",
          "text": [
            "PENDING:   0%|          | 0/150 [elapsed: 03:53 remaining: ?]"
          ]
        },
        {
          "output_type": "stream",
          "name": "stdout",
          "text": [
            "2024-11-05 07:11:32,245 Sleeping for 5s. Reason: PENDING\n"
          ]
        },
        {
          "output_type": "stream",
          "name": "stderr",
          "text": [
            "PENDING:   0%|          | 0/150 [elapsed: 03:59 remaining: ?]"
          ]
        },
        {
          "output_type": "stream",
          "name": "stdout",
          "text": [
            "2024-11-05 07:11:38,333 Sleeping for 9s. Reason: PENDING\n"
          ]
        },
        {
          "output_type": "stream",
          "name": "stderr",
          "text": [
            "PENDING:   0%|          | 0/150 [elapsed: 04:09 remaining: ?]"
          ]
        },
        {
          "output_type": "stream",
          "name": "stdout",
          "text": [
            "2024-11-05 07:11:48,375 Sleeping for 10s. Reason: PENDING\n"
          ]
        },
        {
          "output_type": "stream",
          "name": "stderr",
          "text": [
            "PENDING:   0%|          | 0/150 [elapsed: 04:20 remaining: ?]"
          ]
        },
        {
          "output_type": "stream",
          "name": "stdout",
          "text": [
            "2024-11-05 07:11:59,398 Sleeping for 7s. Reason: PENDING\n"
          ]
        },
        {
          "output_type": "stream",
          "name": "stderr",
          "text": [
            "PENDING:   0%|          | 0/150 [elapsed: 04:28 remaining: ?]"
          ]
        },
        {
          "output_type": "stream",
          "name": "stdout",
          "text": [
            "2024-11-05 07:12:07,400 Sleeping for 8s. Reason: PENDING\n"
          ]
        },
        {
          "output_type": "stream",
          "name": "stderr",
          "text": [
            "PENDING:   0%|          | 0/150 [elapsed: 04:37 remaining: ?]"
          ]
        },
        {
          "output_type": "stream",
          "name": "stdout",
          "text": [
            "2024-11-05 07:12:16,437 Sleeping for 10s. Reason: PENDING\n"
          ]
        },
        {
          "output_type": "stream",
          "name": "stderr",
          "text": [
            "PENDING:   0%|          | 0/150 [elapsed: 04:48 remaining: ?]"
          ]
        },
        {
          "output_type": "stream",
          "name": "stdout",
          "text": [
            "2024-11-05 07:12:27,484 Sleeping for 10s. Reason: PENDING\n"
          ]
        },
        {
          "output_type": "stream",
          "name": "stderr",
          "text": [
            "PENDING:   0%|          | 0/150 [elapsed: 04:59 remaining: ?]"
          ]
        },
        {
          "output_type": "stream",
          "name": "stdout",
          "text": [
            "2024-11-05 07:12:38,509 Sleeping for 9s. Reason: PENDING\n"
          ]
        },
        {
          "output_type": "stream",
          "name": "stderr",
          "text": [
            "PENDING:   0%|          | 0/150 [elapsed: 05:09 remaining: ?]"
          ]
        },
        {
          "output_type": "stream",
          "name": "stdout",
          "text": [
            "2024-11-05 07:12:48,529 Sleeping for 8s. Reason: PENDING\n"
          ]
        },
        {
          "output_type": "stream",
          "name": "stderr",
          "text": [
            "PENDING:   0%|          | 0/150 [elapsed: 05:18 remaining: ?]"
          ]
        },
        {
          "output_type": "stream",
          "name": "stdout",
          "text": [
            "2024-11-05 07:12:57,533 Sleeping for 10s. Reason: PENDING\n"
          ]
        },
        {
          "output_type": "stream",
          "name": "stderr",
          "text": [
            "PENDING:   0%|          | 0/150 [elapsed: 05:29 remaining: ?]"
          ]
        },
        {
          "output_type": "stream",
          "name": "stdout",
          "text": [
            "2024-11-05 07:13:08,562 Sleeping for 5s. Reason: PENDING\n"
          ]
        },
        {
          "output_type": "stream",
          "name": "stderr",
          "text": [
            "PENDING:   0%|          | 0/150 [elapsed: 05:35 remaining: ?]"
          ]
        },
        {
          "output_type": "stream",
          "name": "stdout",
          "text": [
            "2024-11-05 07:13:14,607 Sleeping for 10s. Reason: PENDING\n"
          ]
        },
        {
          "output_type": "stream",
          "name": "stderr",
          "text": [
            "PENDING:   0%|          | 0/150 [elapsed: 05:46 remaining: ?]"
          ]
        },
        {
          "output_type": "stream",
          "name": "stdout",
          "text": [
            "2024-11-05 07:13:25,635 Sleeping for 8s. Reason: PENDING\n"
          ]
        },
        {
          "output_type": "stream",
          "name": "stderr",
          "text": [
            "PENDING:   0%|          | 0/150 [elapsed: 05:55 remaining: ?]"
          ]
        },
        {
          "output_type": "stream",
          "name": "stdout",
          "text": [
            "2024-11-05 07:13:34,691 Sleeping for 5s. Reason: PENDING\n"
          ]
        },
        {
          "output_type": "stream",
          "name": "stderr",
          "text": [
            "PENDING:   0%|          | 0/150 [elapsed: 06:02 remaining: ?]"
          ]
        },
        {
          "output_type": "stream",
          "name": "stdout",
          "text": [
            "2024-11-05 07:13:40,730 Sleeping for 10s. Reason: PENDING\n"
          ]
        },
        {
          "output_type": "stream",
          "name": "stderr",
          "text": [
            "PENDING:   0%|          | 0/150 [elapsed: 06:13 remaining: ?]"
          ]
        },
        {
          "output_type": "stream",
          "name": "stdout",
          "text": [
            "2024-11-05 07:13:51,767 Sleeping for 5s. Reason: PENDING\n"
          ]
        },
        {
          "output_type": "stream",
          "name": "stderr",
          "text": [
            "PENDING:   0%|          | 0/150 [elapsed: 06:19 remaining: ?]"
          ]
        },
        {
          "output_type": "stream",
          "name": "stdout",
          "text": [
            "2024-11-05 07:13:57,797 Sleeping for 7s. Reason: PENDING\n"
          ]
        },
        {
          "output_type": "stream",
          "name": "stderr",
          "text": [
            "PENDING:   0%|          | 0/150 [elapsed: 06:27 remaining: ?]"
          ]
        },
        {
          "output_type": "stream",
          "name": "stdout",
          "text": [
            "2024-11-05 07:14:05,810 Sleeping for 8s. Reason: PENDING\n"
          ]
        },
        {
          "output_type": "stream",
          "name": "stderr",
          "text": [
            "PENDING:   0%|          | 0/150 [elapsed: 06:36 remaining: ?]"
          ]
        },
        {
          "output_type": "stream",
          "name": "stdout",
          "text": [
            "2024-11-05 07:14:14,840 Sleeping for 8s. Reason: PENDING\n"
          ]
        },
        {
          "output_type": "stream",
          "name": "stderr",
          "text": [
            "PENDING:   0%|          | 0/150 [elapsed: 06:45 remaining: ?]"
          ]
        },
        {
          "output_type": "stream",
          "name": "stdout",
          "text": [
            "2024-11-05 07:14:23,843 Sleeping for 6s. Reason: PENDING\n"
          ]
        },
        {
          "output_type": "stream",
          "name": "stderr",
          "text": [
            "PENDING:   0%|          | 0/150 [elapsed: 06:52 remaining: ?]"
          ]
        },
        {
          "output_type": "stream",
          "name": "stdout",
          "text": [
            "2024-11-05 07:14:30,870 Sleeping for 7s. Reason: PENDING\n"
          ]
        },
        {
          "output_type": "stream",
          "name": "stderr",
          "text": [
            "PENDING:   0%|          | 0/150 [elapsed: 07:00 remaining: ?]"
          ]
        },
        {
          "output_type": "stream",
          "name": "stdout",
          "text": [
            "2024-11-05 07:14:38,882 Sleeping for 9s. Reason: PENDING\n"
          ]
        },
        {
          "output_type": "stream",
          "name": "stderr",
          "text": [
            "PENDING:   0%|          | 0/150 [elapsed: 07:10 remaining: ?]"
          ]
        },
        {
          "output_type": "stream",
          "name": "stdout",
          "text": [
            "2024-11-05 07:14:48,957 Sleeping for 8s. Reason: PENDING\n"
          ]
        },
        {
          "output_type": "stream",
          "name": "stderr",
          "text": [
            "PENDING:   0%|          | 0/150 [elapsed: 07:19 remaining: ?]"
          ]
        },
        {
          "output_type": "stream",
          "name": "stdout",
          "text": [
            "2024-11-05 07:14:57,969 Sleeping for 5s. Reason: PENDING\n"
          ]
        },
        {
          "output_type": "stream",
          "name": "stderr",
          "text": [
            "PENDING:   0%|          | 0/150 [elapsed: 07:25 remaining: ?]"
          ]
        },
        {
          "output_type": "stream",
          "name": "stdout",
          "text": [
            "2024-11-05 07:15:04,008 Sleeping for 8s. Reason: PENDING\n"
          ]
        },
        {
          "output_type": "stream",
          "name": "stderr",
          "text": [
            "PENDING:   0%|          | 0/150 [elapsed: 07:34 remaining: ?]"
          ]
        },
        {
          "output_type": "stream",
          "name": "stdout",
          "text": [
            "2024-11-05 07:15:13,527 Sleeping for 9s. Reason: PENDING\n"
          ]
        },
        {
          "output_type": "stream",
          "name": "stderr",
          "text": [
            "PENDING:   0%|          | 0/150 [elapsed: 07:44 remaining: ?]"
          ]
        },
        {
          "output_type": "stream",
          "name": "stdout",
          "text": [
            "2024-11-05 07:15:23,540 Sleeping for 7s. Reason: PENDING\n"
          ]
        },
        {
          "output_type": "stream",
          "name": "stderr",
          "text": [
            "PENDING:   0%|          | 0/150 [elapsed: 07:52 remaining: ?]"
          ]
        },
        {
          "output_type": "stream",
          "name": "stdout",
          "text": [
            "2024-11-05 07:15:31,564 Sleeping for 5s. Reason: PENDING\n"
          ]
        },
        {
          "output_type": "stream",
          "name": "stderr",
          "text": [
            "PENDING:   0%|          | 0/150 [elapsed: 07:58 remaining: ?]"
          ]
        },
        {
          "output_type": "stream",
          "name": "stdout",
          "text": [
            "2024-11-05 07:15:37,604 Sleeping for 7s. Reason: PENDING\n"
          ]
        },
        {
          "output_type": "stream",
          "name": "stderr",
          "text": [
            "PENDING:   0%|          | 0/150 [elapsed: 08:06 remaining: ?]"
          ]
        },
        {
          "output_type": "stream",
          "name": "stdout",
          "text": [
            "2024-11-05 07:15:45,625 Sleeping for 6s. Reason: PENDING\n"
          ]
        },
        {
          "output_type": "stream",
          "name": "stderr",
          "text": [
            "PENDING:   0%|          | 0/150 [elapsed: 08:13 remaining: ?]"
          ]
        },
        {
          "output_type": "stream",
          "name": "stdout",
          "text": [
            "2024-11-05 07:15:52,660 Sleeping for 5s. Reason: PENDING\n"
          ]
        },
        {
          "output_type": "stream",
          "name": "stderr",
          "text": [
            "PENDING:   0%|          | 0/150 [elapsed: 08:19 remaining: ?]"
          ]
        },
        {
          "output_type": "stream",
          "name": "stdout",
          "text": [
            "2024-11-05 07:15:58,721 Sleeping for 10s. Reason: PENDING\n"
          ]
        }
      ]
    },
    {
      "cell_type": "code",
      "source": [
        "#@markdown **Cluster metamorphic protein MSAs using AFcluster and merge with full-MSA of ligand (in case of ligand/receptor)**\n",
        "# Cluster MSA of metamorphic protein using AFcluster\n",
        "os.system(f\"python /content/AF_Cluster/scripts/ClusterMSA.py EX -i /content/{jobname_metamorphic}/{jobname_metamorphic}.a3m -o /content/{jobname_metamorphic}/met_msas\")\n",
        "\n",
        "name = 'test'\n",
        "filein = open(f'/content/{jobname}/{jobname}.a3m').readlines()\n",
        "ligand_unpaired = 0\n",
        "for i in filein:\n",
        "  if i=='>102\\n':\n",
        "    break\n",
        "  else:\n",
        "    ligand_unpaired+=1\n",
        "filein=filein[:ligand_unpaired]\n",
        "binder_seq = sequence.split(':')[0]\n",
        "receptor_seq = sequence.split(':')[1]\n",
        "os.system(f'mkdir /content/{jobname_metamorphic}/lig_msas/')\n",
        "# Merge clusters of unpaired Metamorphic protein (receptor) MSA to full-MSA of ligand\n",
        "for x in glob.glob(f'/content/{jobname_metamorphic}/met_msas/*.a3m'):\n",
        "    if 'EX' in x:\n",
        "        file_test = open(x).readlines()\n",
        "        name = '>102\\n'\n",
        "        initial_seq = '-'*len(binder_seq)\n",
        "        new_msa = []\n",
        "        new_msa.append(name)\n",
        "        for i in file_test[1:]:\n",
        "            if i[:1]!='>':\n",
        "                new_msa.append(initial_seq+i)\n",
        "            else:\n",
        "                new_msa.append(i)\n",
        "        name=x.split('/')[-1]\n",
        "        file=open(f'/content/{jobname_metamorphic}/lig_msas/{name}', 'w')\n",
        "        file.write(f'#{len(binder_seq)},{len(receptor_seq)}\\t1,1\\n')\n",
        "        file.write('>101\\t102\\n')\n",
        "        file.write(f'{binder_seq}{receptor_seq}\\n')\n",
        "        for i in filein[1:]:\n",
        "            file.write(i)\n",
        "        for i in new_msa:\n",
        "            file.write(i)\n",
        "        file.close()"
      ],
      "metadata": {
        "id": "ey0e5BbgElET",
        "cellView": "form"
      },
      "execution_count": null,
      "outputs": []
    },
    {
      "cell_type": "code",
      "source": [
        "#@markdown **Cluster metamorphic protein MSAs using AFcluster and multiply the MSA copies by N (in case of oligomers)**\n",
        "# Cluster MSA of metamorphic protein using AFcluster\n",
        "os.system(f\"python /content/AF_Cluster/scripts/ClusterMSA.py EX -i /content/{jobname_metamorphic}/{jobname_metamorphic}.a3m -o /content/{jobname_metamorphic}/met_msas\")\n",
        "oligomer_N = 2 #@param {type:\"string\"}\n",
        "name = 'test'\n",
        "\n",
        "os.system(f'mkdir /content/{jobname_metamorphic}/lig_msas/')\n",
        "# Merge clusters of unpaired Metamorphic protein (receptor) MSA to full-MSA of ligand\n",
        "for x in glob.glob(f'/content/{jobname_metamorphic}/met_msas/*.a3m'):\n",
        "    if 'EX' in x:\n",
        "        file_test = open(x).readlines()\n",
        "\n",
        "        name=x.split('/')[-1]\n",
        "        file=open(f'/content/{jobname_metamorphic}/lig_msas/{name}', 'w')\n",
        "        file.write(f'#{len(receptor_seq)}\\t{oligomer_N}\\n')\n",
        "        file.write('>101\\n')\n",
        "        file.write(f'{receptor_seq}\\n')\n",
        "        for i in file_test:\n",
        "            file.write(i)\n",
        "        file.close()"
      ],
      "metadata": {
        "cellView": "form",
        "id": "40qXEV4GEpG9"
      },
      "execution_count": null,
      "outputs": []
    },
    {
      "cell_type": "code",
      "source": [
        "#@markdown **Predict clusters with AlphaFold2-Multimer**\n",
        "for i in glob.glob(f'/content/{jobname_metamorphic}/lig_msas/*.a3m'):\n",
        "  if 'EX_U' not in i:\n",
        "    print(i)\n",
        "    os.system(f'colabfold_batch {i} /content/{jobname_metamorphic}/lig_msas/pdbs/ --num-recycle 3 --num-models 1')"
      ],
      "metadata": {
        "id": "X_xTRMfDLCyA",
        "colab": {
          "base_uri": "https://localhost:8080/"
        },
        "outputId": "ef133dff-8b42-4234-8316-498aff9a1db8",
        "cellView": "form"
      },
      "execution_count": null,
      "outputs": [
        {
          "metadata": {
            "tags": null
          },
          "name": "stdout",
          "output_type": "stream",
          "text": [
            "/content/test_metamorphic/lig_msas/EX_168.a3m\n",
            "/content/test_metamorphic/lig_msas/EX_045.a3m\n",
            "/content/test_metamorphic/lig_msas/EX_060.a3m\n",
            "/content/test_metamorphic/lig_msas/EX_104.a3m\n",
            "/content/test_metamorphic/lig_msas/EX_082.a3m\n",
            "/content/test_metamorphic/lig_msas/EX_100.a3m\n",
            "/content/test_metamorphic/lig_msas/EX_150.a3m\n",
            "/content/test_metamorphic/lig_msas/EX_138.a3m\n",
            "/content/test_metamorphic/lig_msas/EX_135.a3m\n"
          ]
        }
      ]
    },
    {
      "cell_type": "code",
      "source": [
        "#@markdown **Plot results**\n",
        "#@markdown Download the reference structures and input their names\n",
        "\n",
        "import warnings\n",
        "import MDAnalysis as mda\n",
        "import glob\n",
        "\n",
        "warnings.filterwarnings(\"ignore\")\n",
        "pdbs = []\n",
        "contacts = []\n",
        "names = []\n",
        "plddts = []\n",
        "plddts_full = []\n",
        "iptms = []\n",
        "ipaes = []\n",
        "\n",
        "fold1_pdb = '8u4p_active.pdb' #@param {type:\"string\"}\n",
        "fold2_pdb = '3oe6_inactive.pdb' #@param {type:\"string\"}\n",
        "\n",
        "ref_inactive = mda.Universe(f'/content/{fold2_pdb}')\n",
        "ref_inactive = ref_inactive.select_atoms('protein and name CA and (resid 211-225 or resid 235-250)')\n",
        "ref_active = mda.Universe(f'/content/{fold1_pdb}')\n",
        "ref_active = ref_active.select_atoms('protein and name CA and (resid 211-225 or resid 235-250)')\n",
        "\n",
        "for i in glob.glob(f'/content/{jobname_metamorphic}/lig_msas/pdbs//*.pdb'):\n",
        "\n",
        "    u = mda.Universe(i)\n",
        "    u = u.select_atoms(\"chainID B and name CA and (resid 211-225 or resid 235-250)\")\n",
        "    R_inactive = mda.analysis.rms.RMSD(u, ref_inactive,)\n",
        "    R_inactive.run()\n",
        "\n",
        "    R_active = mda.analysis.rms.RMSD(u, ref_active,)\n",
        "    R_active.run()\n",
        "\n",
        "    name = i.split('/')[-1].split('_')[1]\n",
        "\n",
        "    data = open(f'/content/{jobname_metamorphic}/lig_msas/pdbs/EX_{name}_scores_rank_001_alphafold2_multimer_v3_model_1_seed_000.json')\n",
        "    #conf_prediction/a2a/a2a_gi/pdbs/EX_000_scores_rank_001_alphafold2_multimer_v3_model_1_seed_000.json\n",
        "    #conf_prediction/a2a/a2a_msas/pdbs/EX_000_scores_rank_001_alphafold2_model_1_seed_000.json\n",
        "    #conf_prediction/a2a/a2a_gi/pdbs/EX_000_predicted_aligned_error_v1.json\n",
        "    data = json.load(data)\n",
        "    plddts.append(np.mean(data['plddt']))\n",
        "    plddts_full.append(data['plddt'])\n",
        "    #iptms.append(data['iptm'])\n",
        "    #ipaes.append(np.mean(np.array([np.min(np.array(data['pae'])[chain_a_hotspots[0]:chain_a_hotspots[1],i]) for i in chain_b_hotspots])))\n",
        "    pdbs.append(np.array([R_inactive.rmsd[0][-1], R_active.rmsd[0][-1]]))\n",
        "    names.append(i)\n",
        "    #contacts.append(euclidean_distances(u.atoms.positions,u.atoms.positions).reshape((1,-1))[0])\n",
        "pdbs = np.array(pdbs).T\n",
        "contacts.append(euclidean_distances(ref_inactive.atoms.positions,ref_inactive.atoms.positions).reshape((1,-1))[0])\n",
        "contacts.append(euclidean_distances(ref_active.atoms.positions,ref_active.atoms.positions).reshape((1,-1))[0])\n",
        "\n",
        "plt.rcParams[\"figure.figsize\"] = (7,6)\n",
        "data = pd.DataFrame({'rmsd1':pdbs[0],\n",
        "                     'rmsd2':pdbs[1],\n",
        "                     'plddts1':plddts,\n",
        "                     'name':names})\n",
        "data = data.sort_values(by='plddts1')\n",
        "\n",
        "plt.scatter(data['rmsd1'],data['rmsd2'], c=data['plddts1'], cmap='rainbow_r', alpha=0.95, s=200, vmin=40, vmax=90)\n",
        "plt.ylim(0,3)\n",
        "plt.xlim(0,3)\n",
        "plt.xlabel('RMSD to inactive', fontsize=14)\n",
        "plt.ylabel('RMSD to active', fontsize=14)\n",
        "#plt.axhline(y = 0.8, xmin = 0, xmax = 1.2)\n",
        "#plt.axvline(x = 0.8, ymin = 0, ymax = 1.2)\n",
        "plt.colorbar()\n",
        "plt.plot([0, 3], [0,3], ls=\"--\", c='black')\n",
        "#plt.savefig('results/image.png', dpi=600)"
      ],
      "metadata": {
        "id": "5G0wM5tlNlAH",
        "colab": {
          "base_uri": "https://localhost:8080/",
          "height": 569
        },
        "outputId": "28432a07-aac6-4299-c8ff-e20c90084aec",
        "cellView": "form"
      },
      "execution_count": null,
      "outputs": [
        {
          "output_type": "execute_result",
          "data": {
            "text/plain": [
              "[<matplotlib.lines.Line2D at 0x7e68bf4ae050>]"
            ]
          },
          "metadata": {},
          "execution_count": 5
        },
        {
          "output_type": "display_data",
          "data": {
            "text/plain": [
              "<Figure size 700x600 with 2 Axes>"
            ],
            "image/png": "[encoded data removed]"
          },
          "metadata": {}
        }
      ]
    }
  ]
}