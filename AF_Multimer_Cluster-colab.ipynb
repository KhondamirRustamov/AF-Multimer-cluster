{
  "nbformat": 4,
  "nbformat_minor": 0,
  "metadata": {
    "colab": {
      "provenance": [],
      "gpuType": "T4",
      "authorship_tag": "ABX9TyM6xL5oqWeHp4NaiA4p+3HR",
      "include_colab_link": true
    },
    "kernelspec": {
      "name": "python3",
      "display_name": "Python 3"
    },
    "language_info": {
      "name": "python"
    },
    "accelerator": "GPU"
  },
  "cells": [
    {
      "cell_type": "markdown",
      "metadata": {
        "id": "view-in-github",
        "colab_type": "text"
      },
      "source": [
        "<a href=\"https://colab.research.google.com/github/KhondamirRustamov/AF-Multimer-cluster/blob/main/AF_Multimer_Cluster-colab.ipynb\" target=\"_parent\"><img src=\"https://colab.research.google.com/assets/colab-badge.svg\" alt=\"Open In Colab\"/></a>"
      ]
    },
    {
      "cell_type": "code",
      "execution_count": 2,
      "metadata": {
        "colab": {
          "base_uri": "https://localhost:8080/"
        },
        "id": "0Gr6cxCiQYnT",
        "outputId": "ca0c64e0-604b-4e3e-d67a-1096955fe1af",
        "cellView": "form"
      },
      "outputs": [
        {
          "output_type": "stream",
          "name": "stderr",
          "text": [
            "WARNING:MDAnalysis.coordinates.AMBER:netCDF4 is not available. Writing AMBER ncdf files will be slow.\n"
          ]
        },
        {
          "output_type": "stream",
          "name": "stdout",
          "text": [
            "fatal: destination path 'AF_Cluster' already exists and is not an empty directory.\n",
            "Requirement already satisfied: biopython in /usr/local/lib/python3.10/dist-packages (from -r /content/AF_Cluster/requirements.txt (line 1)) (1.82)\n",
            "Requirement already satisfied: matplotlib in /usr/local/lib/python3.10/dist-packages (from -r /content/AF_Cluster/requirements.txt (line 2)) (3.7.1)\n",
            "Requirement already satisfied: mdtraj in /usr/local/lib/python3.10/dist-packages (from -r /content/AF_Cluster/requirements.txt (line 3)) (1.10.0)\n",
            "Requirement already satisfied: numpy in /usr/local/lib/python3.10/dist-packages (from -r /content/AF_Cluster/requirements.txt (line 4)) (1.26.4)\n",
            "Requirement already satisfied: pandas in /usr/local/lib/python3.10/dist-packages (from -r /content/AF_Cluster/requirements.txt (line 5)) (1.5.3)\n",
            "Requirement already satisfied: polyleven in /usr/local/lib/python3.10/dist-packages (from -r /content/AF_Cluster/requirements.txt (line 6)) (0.8)\n",
            "Requirement already satisfied: scikit-learn in /usr/local/lib/python3.10/dist-packages (from -r /content/AF_Cluster/requirements.txt (line 7)) (1.5.2)\n",
            "Requirement already satisfied: seaborn in /usr/local/lib/python3.10/dist-packages (from -r /content/AF_Cluster/requirements.txt (line 8)) (0.13.2)\n",
            "Requirement already satisfied: contourpy>=1.0.1 in /usr/local/lib/python3.10/dist-packages (from matplotlib->-r /content/AF_Cluster/requirements.txt (line 2)) (1.3.0)\n",
            "Requirement already satisfied: cycler>=0.10 in /usr/local/lib/python3.10/dist-packages (from matplotlib->-r /content/AF_Cluster/requirements.txt (line 2)) (0.12.1)\n",
            "Requirement already satisfied: fonttools>=4.22.0 in /usr/local/lib/python3.10/dist-packages (from matplotlib->-r /content/AF_Cluster/requirements.txt (line 2)) (4.54.1)\n",
            "Requirement already satisfied: kiwisolver>=1.0.1 in /usr/local/lib/python3.10/dist-packages (from matplotlib->-r /content/AF_Cluster/requirements.txt (line 2)) (1.4.7)\n",
            "Requirement already satisfied: packaging>=20.0 in /usr/local/lib/python3.10/dist-packages (from matplotlib->-r /content/AF_Cluster/requirements.txt (line 2)) (24.1)\n",
            "Requirement already satisfied: pillow>=6.2.0 in /usr/local/lib/python3.10/dist-packages (from matplotlib->-r /content/AF_Cluster/requirements.txt (line 2)) (10.4.0)\n",
            "Requirement already satisfied: pyparsing>=2.3.1 in /usr/local/lib/python3.10/dist-packages (from matplotlib->-r /content/AF_Cluster/requirements.txt (line 2)) (3.2.0)\n",
            "Requirement already satisfied: python-dateutil>=2.7 in /usr/local/lib/python3.10/dist-packages (from matplotlib->-r /content/AF_Cluster/requirements.txt (line 2)) (2.8.2)\n",
            "Requirement already satisfied: scipy in /usr/local/lib/python3.10/dist-packages (from mdtraj->-r /content/AF_Cluster/requirements.txt (line 3)) (1.13.1)\n",
            "Requirement already satisfied: astunparse in /usr/local/lib/python3.10/dist-packages (from mdtraj->-r /content/AF_Cluster/requirements.txt (line 3)) (1.6.3)\n",
            "Requirement already satisfied: pytz>=2020.1 in /usr/local/lib/python3.10/dist-packages (from pandas->-r /content/AF_Cluster/requirements.txt (line 5)) (2024.2)\n",
            "Requirement already satisfied: joblib>=1.2.0 in /usr/local/lib/python3.10/dist-packages (from scikit-learn->-r /content/AF_Cluster/requirements.txt (line 7)) (1.4.2)\n",
            "Requirement already satisfied: threadpoolctl>=3.1.0 in /usr/local/lib/python3.10/dist-packages (from scikit-learn->-r /content/AF_Cluster/requirements.txt (line 7)) (3.5.0)\n",
            "Requirement already satisfied: six>=1.5 in /usr/local/lib/python3.10/dist-packages (from python-dateutil>=2.7->matplotlib->-r /content/AF_Cluster/requirements.txt (line 2)) (1.16.0)\n",
            "Requirement already satisfied: wheel<1.0,>=0.23.0 in /usr/local/lib/python3.10/dist-packages (from astunparse->mdtraj->-r /content/AF_Cluster/requirements.txt (line 3)) (0.44.0)\n",
            "successful\n",
            "CPU times: user 1.12 s, sys: 124 ms, total: 1.24 s\n",
            "Wall time: 9.1 s\n"
          ]
        }
      ],
      "source": [
        "#@title Installing ColabFold\n",
        "%%time\n",
        "!pip install -q biopython\n",
        "!pip install -q MDAnalysis\n",
        "\n",
        "import warnings\n",
        "warnings.filterwarnings(\"ignore\")\n",
        "import json\n",
        "import numpy as np\n",
        "import matplotlib.pyplot as plt\n",
        "\n",
        "import glob\n",
        "from scipy.spatial import distance_matrix\n",
        "\n",
        "import os\n",
        "import sys\n",
        "import urllib.request\n",
        "\n",
        "import Bio\n",
        "import Bio.PDB\n",
        "import Bio.SeqRecord\n",
        "from sklearn.metrics.pairwise import euclidean_distances\n",
        "\n",
        "from sklearn.decomposition import PCA\n",
        "\n",
        "import pandas as pd\n",
        "\n",
        "import MDAnalysis as mda\n",
        "from MDAnalysis.analysis import pca, align, rms\n",
        "#print('installing ColabFold...')\n",
        "if not os.path.isfile(\"COLABFOLD_READY\"):\n",
        "  print(\"installing colabfold...\")\n",
        "  os.system(\"pip install -q --no-warn-conflicts 'colabfold[alphafold-minus-jax] @ git+https://github.com/sokrypton/ColabFold'\")\n",
        "  if os.environ.get('TPU_NAME', False) != False:\n",
        "    os.system(\"pip uninstall -y jax jaxlib\")\n",
        "    os.system(\"pip install --no-warn-conflicts --upgrade dm-haiku==0.0.10 'jax[cuda12_pip]'==0.3.25 -f https://storage.googleapis.com/jax-releases/jax_cuda_releases.html\")\n",
        "  os.system(\"ln -s /usr/local/lib/python3.*/dist-packages/colabfold colabfold\")\n",
        "  os.system(\"ln -s /usr/local/lib/python3.*/dist-packages/alphafold alphafold\")\n",
        "  os.system(\"touch COLABFOLD_READY\")\n",
        "\n",
        "!git clone https://github.com/HWaymentSteele/AF_Cluster\n",
        "!pip install -r /content/AF_Cluster/requirements.txt\n",
        "print('successful')"
      ]
    },
    {
      "cell_type": "code",
      "source": [
        "#@markdown **Input options**\n",
        "#@markdown metamorphic protein sequence first\n",
        "sequence = 'MEGISIYTSDNYTEEMGSGDYDSMKEPCFREENANFNKIFLPTIYSIIFLTGIVGNGLVILVMGYQKKLRSMTDKYRLHLSVADLLFVITLPFWAVDAVANWYFGNFLCKAVHVIYTVNLYSSVLILAFISLDRYLAIVHATNSQRPRKLLAEKVVYVGVWIPALLLTIPDFIFANVSEADDRYICDRFYPNDLWVVVFQFQHIMVGLILPGIVILSCYCIIISKLSHSKGHQKRKALKTTVILILAFFACWLPYYIGISIDSFILLEIIKQGCEFENTVHKWISITEALAFFHCCLNPILYAFLGAKFKTSAQHALTSVSRGSSLKILSKGKRGGHSSVSTESESSSFHSS:MNAKVVVVLVLVLTALCLSDGKPVSLSYRCPCRFFESHVARANVKHLKILNTPNCALQIVARLKNNNRQVCIDPKLKWIQEYLEKALNKRFKM' #@param {type:\"string\"}\n",
        "name = 'test' #@param {type:\"string\"}\n",
        "os.system(f'mkdir {name}/')\n",
        "file_fasta = open(f'{name}/complex.fasta', 'w')\n",
        "file_fasta.write(f'>{name}\\n{sequence}\\n')\n",
        "file_fasta.close()\n",
        "file_fasta = open(f'{name}/metamorphic.fasta', 'w')\n",
        "file_fasta.write(f\">{name}\\n{sequence.split(':')[0]}\\n\")\n",
        "file_fasta.close()\n",
        "num_models = 5 #@param [\"1\", \"2\", \"3\", \"4\", \"5\"] {type:\"raw\"}\n",
        "\n",
        "print('Predicting metamorphic protein using ColabFold')\n",
        "#os.system(f'colabfold_batch /content/{name}/metamorphic.fasta /content/{name}/metamorphic/ --num-recycle 3 --num-models 1')\n",
        "\n",
        "print('Predicting complex using ColabFold')\n",
        "os.system(f'colabfold_batch /content/{name}/complex.fasta /content/{name}/complex/ --num-recycle 3 --num-models 1 --pair-mode unpaired')"
      ],
      "metadata": {
        "colab": {
          "base_uri": "https://localhost:8080/"
        },
        "id": "dPDmwo-7j2ay",
        "outputId": "1407f6b5-6670-42e8-d0eb-72d9d75aa0a5"
      },
      "execution_count": 7,
      "outputs": [
        {
          "output_type": "stream",
          "name": "stdout",
          "text": [
            "Predicting metamorphic protein using ColabFold\n",
            "Predicting complex using ColabFold\n"
          ]
        },
        {
          "output_type": "execute_result",
          "data": {
            "text/plain": [
              "2"
            ]
          },
          "metadata": {},
          "execution_count": 7
        }
      ]
    },
    {
      "cell_type": "code",
      "source": [
        "#@markdown **Cluster MSAs using AFcluster and merge with with**\n",
        "# Cluster MSA of metamorphic protein using AFcluster\n",
        "os.system(f\"python /content/AF_Cluster/scripts/ClusterMSA.py EX -i /content/{name}/metamorphic/test.a3m -o /content/{name}/met_msas\")\n",
        "\n",
        "name = 'test'\n",
        "filein = open(f'/content/{name}/complex/test.a3m').readlines()\n",
        "ligand_unpaired = 0\n",
        "for i in filein:\n",
        "  if i=='>102\\n':\n",
        "    break\n",
        "  else:\n",
        "    ligand_unpaired+=1\n",
        "filein=filein[ligand_unpaired:]\n",
        "binder_seq = sequence.split(':')[1]\n",
        "receptor_seq = sequence.split(':')[0]\n",
        "\n",
        "# Merge clusters of unpaired Metamorphic protein (receptor) MSA to full-MSA of ligand\n",
        "for x in glob.glob(f'/content/{name}/met_msas/*.a3m'):\n",
        "    if 'EX' in x:\n",
        "        file_test = open(x).readlines()\n",
        "        seq_name = '>102\\n'\n",
        "        initial_seq = '-'*len(binder_seq)\n",
        "        new_msa = []\n",
        "        new_msa.append(seq_name)\n",
        "        for i in file_test[1:]:\n",
        "            if i[:1]!='>':\n",
        "                new_msa.append(i[:-2]+initial_seq+'\\n')\n",
        "            else:\n",
        "                new_msa.append(i)\n",
        "        cluster_name=x.split('/')[-1]\n",
        "        os.system(f'mkdir complex_msas/')\n",
        "        file=open(f'/content/complex_msas/{cluster_name}', 'w')\n",
        "        file.write(f'#{len(receptor_seq)},{len(binder_seq)}\\t1,1\\n')\n",
        "        file.write('>101\\t102\\n')\n",
        "        file.write(f'{receptor_seq}{binder_seq}\\n')\n",
        "        for i in filein[1:]:\n",
        "            file.write(i)\n",
        "        for i in new_msa:\n",
        "            file.write(i)\n",
        "        file.close()"
      ],
      "metadata": {
        "id": "ey0e5BbgElET"
      },
      "execution_count": 10,
      "outputs": []
    },
    {
      "cell_type": "code",
      "source": [
        "#@markdown **Predict clusters with AlphaFold2-Multimer**\n",
        "for i in glob.glob('complex_msas/*.a3m'):\n",
        "  os.system(f'colabfold_batch {i} /content/complex_msas/pdbs/ --num-recycle 3 --num-models 1')"
      ],
      "metadata": {
        "id": "X_xTRMfDLCyA"
      },
      "execution_count": null,
      "outputs": []
    },
    {
      "cell_type": "code",
      "source": [
        "#@markdown **Plot results**\n",
        "#@markdown Download the reference structures and input their names\n",
        "\n",
        "import warnings\n",
        "warnings.filterwarnings(\"ignore\")\n",
        "pdbs = []\n",
        "contacts = []\n",
        "names = []\n",
        "plddts = []\n",
        "plddts_full = []\n",
        "iptms = []\n",
        "ipaes = []\n",
        "\n",
        "fold1_pdb = 'active.pdb' #@param {type:\"string\"}\n",
        "fold2_pdb = 'inactive.pdb' #@param {type:\"string\"}\n",
        "\n",
        "ref_inactive = mda.Universe(f'/content/{fold1_pdb}')\n",
        "ref_inactive = ref_inactive.select_atoms('protein and name CA')\n",
        "ref_active = mda.Universe(f'/content/{fold2_pdb}')\n",
        "ref_active = ref_active.select_atoms('protein and name CA')\n",
        "\n",
        "for i in glob.glob('/content/complex_msas/pdbs/*.pdb'):\n",
        "\n",
        "    u = mda.Universe(i)\n",
        "    u = u.select_atoms(\"chainID A and name CA\")\n",
        "    R_inactive = mda.analysis.rms.RMSD(u, ref_inactive,)\n",
        "    R_inactive.run()\n",
        "\n",
        "    R_active = mda.analysis.rms.RMSD(u, ref_active,)\n",
        "    R_active.run()\n",
        "\n",
        "    name = i.split('/')[-1].split('_')[1]\n",
        "\n",
        "    data = open(f'result_folder/pdbs/EX_{name}_scores_rank_001_alphafold2_ptm_model_1_seed_000.json')\n",
        "    #conf_prediction/a2a/a2a_gi/pdbs/EX_000_scores_rank_001_alphafold2_multimer_v3_model_1_seed_000.json\n",
        "    #conf_prediction/a2a/a2a_msas/pdbs/EX_000_scores_rank_001_alphafold2_ptm_model_1_seed_000.json\n",
        "    #conf_prediction/a2a/a2a_gi/pdbs/EX_000_predicted_aligned_error_v1.json\n",
        "    data = json.load(data)\n",
        "    plddts.append(np.mean(data['plddt']))\n",
        "    plddts_full.append(data['plddt'])\n",
        "    #iptms.append(data['iptm'])\n",
        "    #ipaes.append(np.mean(np.array([np.min(np.array(data['pae'])[chain_a_hotspots[0]:chain_a_hotspots[1],i]) for i in chain_b_hotspots])))\n",
        "    pdbs.append(np.array([R_inactive.rmsd[0][-1], R_active.rmsd[0][-1]]))\n",
        "    names.append(i)\n",
        "    contacts.append(euclidean_distances(u.atoms.positions,u.atoms.positions).reshape((1,-1))[0])\n",
        "pdbs = np.array(pdbs).T\n",
        "contacts.append(euclidean_distances(ref_inactive.atoms.positions,ref_inactive.atoms.positions).reshape((1,-1))[0])\n",
        "contacts.append(euclidean_distances(ref_active.atoms.positions,ref_active.atoms.positions).reshape((1,-1))[0])\n",
        "\n",
        "plt.rcParams[\"figure.figsize\"] = (7,6)\n",
        "data = pd.DataFrame({'rmsd1':pdbs[0],\n",
        "                     'rmsd2':pdbs[1],\n",
        "                     'plddts1':plddts,\n",
        "                     'name':names})\n",
        "data = data.sort_values(by='plddts1')\n",
        "\n",
        "plt.scatter(data['rmsd1'],data['rmsd2'], c=data['plddts1'], cmap='rainbow_r', alpha=0.95, s=200, vmin=40, vmax=90)\n",
        "plt.ylim(0,20)\n",
        "plt.xlim(0,20)\n",
        "plt.xlabel('RMSD to inactive', fontsize=14)\n",
        "plt.ylabel('RMSD to active', fontsize=14)\n",
        "#plt.axhline(y = 0.8, xmin = 0, xmax = 1.2)\n",
        "#plt.axvline(x = 0.8, ymin = 0, ymax = 1.2)\n",
        "plt.colorbar()\n",
        "plt.plot([0, 20], [0,20], ls=\"--\", c='black')\n",
        "plt.savefig('results/image.png', dpi=600)"
      ],
      "metadata": {
        "id": "5G0wM5tlNlAH"
      },
      "execution_count": null,
      "outputs": []
    }
  ]
}